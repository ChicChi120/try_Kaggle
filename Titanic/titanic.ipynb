{
 "cells": [
  {
   "cell_type": "code",
   "execution_count": 1,
   "metadata": {
    "colab": {},
    "colab_type": "code",
    "id": "Ia_NwgxUGVOo"
   },
   "outputs": [],
   "source": [
    "import numpy as np\n",
    "import numpy.random as random\n",
    "import scipy as sp\n",
    "from pandas import Series, DataFrame\n",
    "import pandas as pd\n",
    "\n",
    "import xgboost as xgb\n",
    "\n",
    "import matplotlib.pyplot as plt\n",
    "import matplotlib as mpl\n",
    "import seaborn as sns\n",
    "%matplotlib inline\n",
    "\n",
    "import sklearn\n",
    "\n",
    "from sklearn.model_selection import train_test_split, cross_val_score, GridSearchCV\n",
    "from sklearn.preprocessing import StandardScaler\n",
    "from sklearn.linear_model import LinearRegression, LogisticRegression, Ridge, RidgeClassifier, RANSACRegressor, RANSACRegressor, ARDRegression\n",
    "from sklearn.tree import  DecisionTreeClassifier, DecisionTreeRegressor\n",
    "from sklearn.neighbors import  KNeighborsClassifier, KNeighborsRegressor\n",
    "from sklearn.svm import LinearSVC, LinearSVR, SVC, SVR, NuSVC, NuSVR\n",
    "from sklearn.ensemble import RandomForestClassifier, RandomForestRegressor, BaggingClassifier, BaggingRegressor, AdaBoostClassifier, AdaBoostRegressor, GradientBoostingClassifier, GradientBoostingRegressor\n",
    "from sklearn.neural_network import MLPClassifier, MLPRegressor, BernoulliRBM\n",
    "\n",
    "from sklearn.cluster import KMeans\n",
    "from sklearn.decomposition import PCA\n",
    "\n",
    "from sklearn.metrics import confusion_matrix, precision_score, recall_score, f1_score, roc_curve, auc, accuracy_score, classification_report\n",
    "from sklearn.metrics import mean_squared_error, mean_absolute_error, median_absolute_error, r2_score\n",
    "\n",
    "%precision 3\n",
    "\n",
    "import warnings\n",
    "warnings.filterwarnings('ignore')"
   ]
  },
  {
   "cell_type": "code",
   "execution_count": 2,
   "metadata": {
    "colab": {},
    "colab_type": "code",
    "id": "GS5iLaRG1kCc"
   },
   "outputs": [],
   "source": [
    "import tensorflow as tf\n",
    "from IPython.display import SVG\n",
    "from tensorflow.python.keras.utils.vis_utils import model_to_dot\n",
    "\n",
    "from tensorflow.keras.models import Sequential, Model\n",
    "from tensorflow.keras.layers import Dense, Conv1D, MaxPool1D, Input, BatchNormalization"
   ]
  },
  {
   "cell_type": "code",
   "execution_count": 3,
   "metadata": {
    "colab": {},
    "colab_type": "code",
    "id": "KVdap5b64XE5"
   },
   "outputs": [],
   "source": [
    "df = pd.read_csv('input/train.csv')\n",
    "df_test = pd.read_csv('input/test.csv')\n",
    "submission = pd.read_csv('input/gender_submission.csv')"
   ]
  },
  {
   "cell_type": "code",
   "execution_count": 4,
   "metadata": {
    "colab": {
     "base_uri": "https://localhost:8080/",
     "height": 34
    },
    "colab_type": "code",
    "executionInfo": {
     "elapsed": 1794,
     "status": "ok",
     "timestamp": 1588134306176,
     "user": {
      "displayName": "Chiharu Yanai",
      "photoUrl": "https://lh3.googleusercontent.com/a-/AOh14GhBKXjhTGhE1u0wV2K1woTi0IhKCWxmstyczgdX=s64",
      "userId": "16677175421570608329"
     },
     "user_tz": -540
    },
    "id": "AtaTMCkh5VLA",
    "outputId": "42ba4cf3-c277-4714-86ad-e1b1a25e9d20"
   },
   "outputs": [
    {
     "name": "stdout",
     "output_type": "stream",
     "text": [
      "(891, 12) (418, 11)\n"
     ]
    }
   ],
   "source": [
    "print(df.shape, df_test.shape)"
   ]
  },
  {
   "cell_type": "code",
   "execution_count": 5,
   "metadata": {
    "colab": {
     "base_uri": "https://localhost:8080/",
     "height": 204
    },
    "colab_type": "code",
    "executionInfo": {
     "elapsed": 1519,
     "status": "ok",
     "timestamp": 1588134306177,
     "user": {
      "displayName": "Chiharu Yanai",
      "photoUrl": "https://lh3.googleusercontent.com/a-/AOh14GhBKXjhTGhE1u0wV2K1woTi0IhKCWxmstyczgdX=s64",
      "userId": "16677175421570608329"
     },
     "user_tz": -540
    },
    "id": "TkuxyrWo6KtB",
    "outputId": "d3fd6c77-d846-46ce-e543-e46a95c35fc6"
   },
   "outputs": [
    {
     "data": {
      "text/html": [
       "<div>\n",
       "<style scoped>\n",
       "    .dataframe tbody tr th:only-of-type {\n",
       "        vertical-align: middle;\n",
       "    }\n",
       "\n",
       "    .dataframe tbody tr th {\n",
       "        vertical-align: top;\n",
       "    }\n",
       "\n",
       "    .dataframe thead th {\n",
       "        text-align: right;\n",
       "    }\n",
       "</style>\n",
       "<table border=\"1\" class=\"dataframe\">\n",
       "  <thead>\n",
       "    <tr style=\"text-align: right;\">\n",
       "      <th></th>\n",
       "      <th>PassengerId</th>\n",
       "      <th>Survived</th>\n",
       "      <th>Pclass</th>\n",
       "      <th>Name</th>\n",
       "      <th>Sex</th>\n",
       "      <th>Age</th>\n",
       "      <th>SibSp</th>\n",
       "      <th>Parch</th>\n",
       "      <th>Ticket</th>\n",
       "      <th>Fare</th>\n",
       "      <th>Cabin</th>\n",
       "      <th>Embarked</th>\n",
       "    </tr>\n",
       "  </thead>\n",
       "  <tbody>\n",
       "    <tr>\n",
       "      <th>0</th>\n",
       "      <td>1</td>\n",
       "      <td>0</td>\n",
       "      <td>3</td>\n",
       "      <td>Braund, Mr. Owen Harris</td>\n",
       "      <td>male</td>\n",
       "      <td>22.0</td>\n",
       "      <td>1</td>\n",
       "      <td>0</td>\n",
       "      <td>A/5 21171</td>\n",
       "      <td>7.2500</td>\n",
       "      <td>NaN</td>\n",
       "      <td>S</td>\n",
       "    </tr>\n",
       "    <tr>\n",
       "      <th>1</th>\n",
       "      <td>2</td>\n",
       "      <td>1</td>\n",
       "      <td>1</td>\n",
       "      <td>Cumings, Mrs. John Bradley (Florence Briggs Th...</td>\n",
       "      <td>female</td>\n",
       "      <td>38.0</td>\n",
       "      <td>1</td>\n",
       "      <td>0</td>\n",
       "      <td>PC 17599</td>\n",
       "      <td>71.2833</td>\n",
       "      <td>C85</td>\n",
       "      <td>C</td>\n",
       "    </tr>\n",
       "    <tr>\n",
       "      <th>2</th>\n",
       "      <td>3</td>\n",
       "      <td>1</td>\n",
       "      <td>3</td>\n",
       "      <td>Heikkinen, Miss. Laina</td>\n",
       "      <td>female</td>\n",
       "      <td>26.0</td>\n",
       "      <td>0</td>\n",
       "      <td>0</td>\n",
       "      <td>STON/O2. 3101282</td>\n",
       "      <td>7.9250</td>\n",
       "      <td>NaN</td>\n",
       "      <td>S</td>\n",
       "    </tr>\n",
       "    <tr>\n",
       "      <th>3</th>\n",
       "      <td>4</td>\n",
       "      <td>1</td>\n",
       "      <td>1</td>\n",
       "      <td>Futrelle, Mrs. Jacques Heath (Lily May Peel)</td>\n",
       "      <td>female</td>\n",
       "      <td>35.0</td>\n",
       "      <td>1</td>\n",
       "      <td>0</td>\n",
       "      <td>113803</td>\n",
       "      <td>53.1000</td>\n",
       "      <td>C123</td>\n",
       "      <td>S</td>\n",
       "    </tr>\n",
       "    <tr>\n",
       "      <th>4</th>\n",
       "      <td>5</td>\n",
       "      <td>0</td>\n",
       "      <td>3</td>\n",
       "      <td>Allen, Mr. William Henry</td>\n",
       "      <td>male</td>\n",
       "      <td>35.0</td>\n",
       "      <td>0</td>\n",
       "      <td>0</td>\n",
       "      <td>373450</td>\n",
       "      <td>8.0500</td>\n",
       "      <td>NaN</td>\n",
       "      <td>S</td>\n",
       "    </tr>\n",
       "  </tbody>\n",
       "</table>\n",
       "</div>"
      ],
      "text/plain": [
       "   PassengerId  Survived  Pclass  \\\n",
       "0            1         0       3   \n",
       "1            2         1       1   \n",
       "2            3         1       3   \n",
       "3            4         1       1   \n",
       "4            5         0       3   \n",
       "\n",
       "                                                Name     Sex   Age  SibSp  \\\n",
       "0                            Braund, Mr. Owen Harris    male  22.0      1   \n",
       "1  Cumings, Mrs. John Bradley (Florence Briggs Th...  female  38.0      1   \n",
       "2                             Heikkinen, Miss. Laina  female  26.0      0   \n",
       "3       Futrelle, Mrs. Jacques Heath (Lily May Peel)  female  35.0      1   \n",
       "4                           Allen, Mr. William Henry    male  35.0      0   \n",
       "\n",
       "   Parch            Ticket     Fare Cabin Embarked  \n",
       "0      0         A/5 21171   7.2500   NaN        S  \n",
       "1      0          PC 17599  71.2833   C85        C  \n",
       "2      0  STON/O2. 3101282   7.9250   NaN        S  \n",
       "3      0            113803  53.1000  C123        S  \n",
       "4      0            373450   8.0500   NaN        S  "
      ]
     },
     "execution_count": 5,
     "metadata": {},
     "output_type": "execute_result"
    }
   ],
   "source": [
    "df.head()"
   ]
  },
  {
   "cell_type": "code",
   "execution_count": 6,
   "metadata": {
    "colab": {
     "base_uri": "https://localhost:8080/",
     "height": 238
    },
    "colab_type": "code",
    "executionInfo": {
     "elapsed": 1246,
     "status": "ok",
     "timestamp": 1588134306178,
     "user": {
      "displayName": "Chiharu Yanai",
      "photoUrl": "https://lh3.googleusercontent.com/a-/AOh14GhBKXjhTGhE1u0wV2K1woTi0IhKCWxmstyczgdX=s64",
      "userId": "16677175421570608329"
     },
     "user_tz": -540
    },
    "id": "NVILBR4M6UX_",
    "outputId": "b4ecd283-e09d-4efa-9856-46b248369de7"
   },
   "outputs": [
    {
     "name": "stdout",
     "output_type": "stream",
     "text": [
      "PassengerId      0\n",
      "Survived         0\n",
      "Pclass           0\n",
      "Name             0\n",
      "Sex              0\n",
      "Age            177\n",
      "SibSp            0\n",
      "Parch            0\n",
      "Ticket           0\n",
      "Fare             0\n",
      "Cabin          687\n",
      "Embarked         2\n",
      "dtype: int64\n"
     ]
    }
   ],
   "source": [
    "print(df.isnull().sum())"
   ]
  },
  {
   "cell_type": "code",
   "execution_count": 7,
   "metadata": {
    "colab": {
     "base_uri": "https://localhost:8080/",
     "height": 221
    },
    "colab_type": "code",
    "executionInfo": {
     "elapsed": 2923,
     "status": "ok",
     "timestamp": 1588134308246,
     "user": {
      "displayName": "Chiharu Yanai",
      "photoUrl": "https://lh3.googleusercontent.com/a-/AOh14GhBKXjhTGhE1u0wV2K1woTi0IhKCWxmstyczgdX=s64",
      "userId": "16677175421570608329"
     },
     "user_tz": -540
    },
    "id": "CKSZ7q5r6lcU",
    "outputId": "c5d2379f-0cdb-41f3-d40c-74ae293993c7"
   },
   "outputs": [
    {
     "name": "stdout",
     "output_type": "stream",
     "text": [
      "PassengerId      0\n",
      "Pclass           0\n",
      "Name             0\n",
      "Sex              0\n",
      "Age             86\n",
      "SibSp            0\n",
      "Parch            0\n",
      "Ticket           0\n",
      "Fare             1\n",
      "Cabin          327\n",
      "Embarked         0\n",
      "dtype: int64\n"
     ]
    }
   ],
   "source": [
    "print(df_test.isnull().sum())"
   ]
  },
  {
   "cell_type": "code",
   "execution_count": 8,
   "metadata": {
    "colab": {
     "base_uri": "https://localhost:8080/",
     "height": 238
    },
    "colab_type": "code",
    "executionInfo": {
     "elapsed": 2684,
     "status": "ok",
     "timestamp": 1588134308247,
     "user": {
      "displayName": "Chiharu Yanai",
      "photoUrl": "https://lh3.googleusercontent.com/a-/AOh14GhBKXjhTGhE1u0wV2K1woTi0IhKCWxmstyczgdX=s64",
      "userId": "16677175421570608329"
     },
     "user_tz": -540
    },
    "id": "Vr_lWR_j6qVd",
    "outputId": "685abfeb-3b96-44ed-a949-4218d202aa1f"
   },
   "outputs": [
    {
     "name": "stdout",
     "output_type": "stream",
     "text": [
      "PassengerId      int64\n",
      "Survived         int64\n",
      "Pclass           int64\n",
      "Name            object\n",
      "Sex             object\n",
      "Age            float64\n",
      "SibSp            int64\n",
      "Parch            int64\n",
      "Ticket          object\n",
      "Fare           float64\n",
      "Cabin           object\n",
      "Embarked        object\n",
      "dtype: object\n"
     ]
    }
   ],
   "source": [
    "print(df.dtypes)"
   ]
  },
  {
   "cell_type": "code",
   "execution_count": 9,
   "metadata": {
    "colab": {
     "base_uri": "https://localhost:8080/",
     "height": 265
    },
    "colab_type": "code",
    "executionInfo": {
     "elapsed": 2491,
     "status": "ok",
     "timestamp": 1588134308248,
     "user": {
      "displayName": "Chiharu Yanai",
      "photoUrl": "https://lh3.googleusercontent.com/a-/AOh14GhBKXjhTGhE1u0wV2K1woTi0IhKCWxmstyczgdX=s64",
      "userId": "16677175421570608329"
     },
     "user_tz": -540
    },
    "id": "gVO7P82D7cH5",
    "outputId": "9deb0b7b-cc67-4055-81c6-ea0368b985e5"
   },
   "outputs": [
    {
     "data": {
      "text/plain": [
       "<matplotlib.axes._subplots.AxesSubplot at 0x1a42f36750>"
      ]
     },
     "execution_count": 9,
     "metadata": {},
     "output_type": "execute_result"
    },
    {
     "data": {
      "image/png": "[encoded data removed]",
      "text/plain": [
       "<Figure size 432x288 with 1 Axes>"
      ]
     },
     "metadata": {},
     "output_type": "display_data"
    }
   ],
   "source": [
    "df['Survived'].value_counts().plot.pie()"
   ]
  },
  {
   "cell_type": "code",
   "execution_count": 10,
   "metadata": {
    "colab": {
     "base_uri": "https://localhost:8080/",
     "height": 361
    },
    "colab_type": "code",
    "executionInfo": {
     "elapsed": 2330,
     "status": "ok",
     "timestamp": 1588134308249,
     "user": {
      "displayName": "Chiharu Yanai",
      "photoUrl": "https://lh3.googleusercontent.com/a-/AOh14GhBKXjhTGhE1u0wV2K1woTi0IhKCWxmstyczgdX=s64",
      "userId": "16677175421570608329"
     },
     "user_tz": -540
    },
    "id": "-oMq0_NBBY9D",
    "outputId": "6226400f-8cd1-495e-f2ef-5af6609e2d5b"
   },
   "outputs": [
    {
     "name": "stdout",
     "output_type": "stream",
     "text": [
      "3    491\n",
      "1    216\n",
      "2    184\n",
      "Name: Pclass, dtype: int64\n"
     ]
    },
    {
     "data": {
      "text/plain": [
       "<matplotlib.axes._subplots.AxesSubplot at 0x1069094d0>"
      ]
     },
     "execution_count": 10,
     "metadata": {},
     "output_type": "execute_result"
    },
    {
     "data": {
      "image/png": "[encoded data removed]",
      "text/plain": [
       "<Figure size 432x288 with 1 Axes>"
      ]
     },
     "metadata": {
      "needs_background": "light"
     },
     "output_type": "display_data"
    }
   ],
   "source": [
    "print(df['Pclass'].value_counts())\n",
    "df.groupby('Pclass')['Survived'].mean().plot.bar()"
   ]
  },
  {
   "cell_type": "code",
   "execution_count": 11,
   "metadata": {
    "colab": {
     "base_uri": "https://localhost:8080/",
     "height": 688
    },
    "colab_type": "code",
    "executionInfo": {
     "elapsed": 3344,
     "status": "ok",
     "timestamp": 1588134309453,
     "user": {
      "displayName": "Chiharu Yanai",
      "photoUrl": "https://lh3.googleusercontent.com/a-/AOh14GhBKXjhTGhE1u0wV2K1woTi0IhKCWxmstyczgdX=s64",
      "userId": "16677175421570608329"
     },
     "user_tz": -540
    },
    "id": "Ynad7Zdq_Ie7",
    "outputId": "4558a0a7-d415-4f9e-90b0-da087c8f00be"
   },
   "outputs": [
    {
     "data": {
      "text/plain": [
       "[<matplotlib.axis.YTick at 0x1a43633790>,\n",
       " <matplotlib.axis.YTick at 0x1a4362ce10>,\n",
       " <matplotlib.axis.YTick at 0x1a436268d0>,\n",
       " <matplotlib.axis.YTick at 0x1a436f6510>,\n",
       " <matplotlib.axis.YTick at 0x1a436f6ad0>,\n",
       " <matplotlib.axis.YTick at 0x1a436f6d10>,\n",
       " <matplotlib.axis.YTick at 0x1a436fc710>,\n",
       " <matplotlib.axis.YTick at 0x1a436fcd50>,\n",
       " <matplotlib.axis.YTick at 0x1a437043d0>,\n",
       " <matplotlib.axis.YTick at 0x1a43704a10>,\n",
       " <matplotlib.axis.YTick at 0x1a43704050>]"
      ]
     },
     "execution_count": 11,
     "metadata": {},
     "output_type": "execute_result"
    },
    {
     "data": {
      "image/png": "[encoded data removed]",
      "text/plain": [
       "<Figure size 1296x576 with 2 Axes>"
      ]
     },
     "metadata": {
      "needs_background": "light"
     },
     "output_type": "display_data"
    }
   ],
   "source": [
    "f, ax = plt.subplots(1, 2, figsize=(18, 8))\n",
    "sns.violinplot('Pclass', 'Age', hue='Survived', data=df, split=True, ax=ax[0])\n",
    "ax[0].set_yticks(range(0, 110, 10))\n",
    "\n",
    "sns.violinplot('Sex', 'Age', hue='Survived', data=df, split=True, ax=ax[1])\n",
    "ax[1].set_yticks(range(0, 110, 10))"
   ]
  },
  {
   "cell_type": "code",
   "execution_count": 12,
   "metadata": {
    "colab": {
     "base_uri": "https://localhost:8080/",
     "height": 142
    },
    "colab_type": "code",
    "executionInfo": {
     "elapsed": 3174,
     "status": "ok",
     "timestamp": 1588134309454,
     "user": {
      "displayName": "Chiharu Yanai",
      "photoUrl": "https://lh3.googleusercontent.com/a-/AOh14GhBKXjhTGhE1u0wV2K1woTi0IhKCWxmstyczgdX=s64",
      "userId": "16677175421570608329"
     },
     "user_tz": -540
    },
    "id": "d8rH6u8e70zx",
    "outputId": "efeca525-1b87-41af-8193-d9a0132eb356"
   },
   "outputs": [
    {
     "data": {
      "text/html": [
       "<div>\n",
       "<style scoped>\n",
       "    .dataframe tbody tr th:only-of-type {\n",
       "        vertical-align: middle;\n",
       "    }\n",
       "\n",
       "    .dataframe tbody tr th {\n",
       "        vertical-align: top;\n",
       "    }\n",
       "\n",
       "    .dataframe thead th {\n",
       "        text-align: right;\n",
       "    }\n",
       "</style>\n",
       "<table border=\"1\" class=\"dataframe\">\n",
       "  <thead>\n",
       "    <tr style=\"text-align: right;\">\n",
       "      <th></th>\n",
       "      <th>count</th>\n",
       "      <th>mean</th>\n",
       "      <th>std</th>\n",
       "      <th>min</th>\n",
       "      <th>25%</th>\n",
       "      <th>50%</th>\n",
       "      <th>75%</th>\n",
       "      <th>max</th>\n",
       "    </tr>\n",
       "    <tr>\n",
       "      <th>Sex</th>\n",
       "      <th></th>\n",
       "      <th></th>\n",
       "      <th></th>\n",
       "      <th></th>\n",
       "      <th></th>\n",
       "      <th></th>\n",
       "      <th></th>\n",
       "      <th></th>\n",
       "    </tr>\n",
       "  </thead>\n",
       "  <tbody>\n",
       "    <tr>\n",
       "      <th>female</th>\n",
       "      <td>261.0</td>\n",
       "      <td>27.915709</td>\n",
       "      <td>14.110146</td>\n",
       "      <td>0.75</td>\n",
       "      <td>18.0</td>\n",
       "      <td>27.0</td>\n",
       "      <td>37.0</td>\n",
       "      <td>63.0</td>\n",
       "    </tr>\n",
       "    <tr>\n",
       "      <th>male</th>\n",
       "      <td>453.0</td>\n",
       "      <td>30.726645</td>\n",
       "      <td>14.678201</td>\n",
       "      <td>0.42</td>\n",
       "      <td>21.0</td>\n",
       "      <td>29.0</td>\n",
       "      <td>39.0</td>\n",
       "      <td>80.0</td>\n",
       "    </tr>\n",
       "  </tbody>\n",
       "</table>\n",
       "</div>"
      ],
      "text/plain": [
       "        count       mean        std   min   25%   50%   75%   max\n",
       "Sex                                                              \n",
       "female  261.0  27.915709  14.110146  0.75  18.0  27.0  37.0  63.0\n",
       "male    453.0  30.726645  14.678201  0.42  21.0  29.0  39.0  80.0"
      ]
     },
     "execution_count": 12,
     "metadata": {},
     "output_type": "execute_result"
    }
   ],
   "source": [
    "df.groupby('Sex')['Age'].describe()"
   ]
  },
  {
   "cell_type": "code",
   "execution_count": 13,
   "metadata": {
    "colab": {},
    "colab_type": "code",
    "id": "TvepRqJh-Uk7"
   },
   "outputs": [],
   "source": [
    "df['Age'].fillna(df['Age'].mean(), inplace=True)\n",
    "df_test['Age'].fillna(df_test['Age'].mean(), inplace=True)\n",
    "\n",
    "df_test['Fare'].fillna(df_test['Fare'].mean(), inplace=True)"
   ]
  },
  {
   "cell_type": "code",
   "execution_count": 14,
   "metadata": {
    "colab": {},
    "colab_type": "code",
    "id": "UvTWwJWhHZch"
   },
   "outputs": [],
   "source": [
    "df.drop('Cabin', axis=1, inplace=True)\n",
    "df_test.drop('Cabin', axis=1, inplace=True)"
   ]
  },
  {
   "cell_type": "code",
   "execution_count": 15,
   "metadata": {
    "colab": {
     "base_uri": "https://localhost:8080/",
     "height": 85
    },
    "colab_type": "code",
    "executionInfo": {
     "elapsed": 2597,
     "status": "ok",
     "timestamp": 1588134309457,
     "user": {
      "displayName": "Chiharu Yanai",
      "photoUrl": "https://lh3.googleusercontent.com/a-/AOh14GhBKXjhTGhE1u0wV2K1woTi0IhKCWxmstyczgdX=s64",
      "userId": "16677175421570608329"
     },
     "user_tz": -540
    },
    "id": "2padfyWkEapA",
    "outputId": "4ab463f3-9e28-44fa-965f-54cdb8186bd7"
   },
   "outputs": [
    {
     "data": {
      "text/plain": [
       "S    644\n",
       "C    168\n",
       "Q     77\n",
       "Name: Embarked, dtype: int64"
      ]
     },
     "execution_count": 15,
     "metadata": {},
     "output_type": "execute_result"
    }
   ],
   "source": [
    "df['Embarked'].value_counts()"
   ]
  },
  {
   "cell_type": "code",
   "execution_count": 16,
   "metadata": {
    "colab": {},
    "colab_type": "code",
    "id": "LBz0ElsVHNbH"
   },
   "outputs": [],
   "source": [
    "df['Embarked'].fillna('S', inplace=True)"
   ]
  },
  {
   "cell_type": "code",
   "execution_count": 17,
   "metadata": {
    "colab": {
     "base_uri": "https://localhost:8080/",
     "height": 221
    },
    "colab_type": "code",
    "executionInfo": {
     "elapsed": 1276,
     "status": "ok",
     "timestamp": 1588134309458,
     "user": {
      "displayName": "Chiharu Yanai",
      "photoUrl": "https://lh3.googleusercontent.com/a-/AOh14GhBKXjhTGhE1u0wV2K1woTi0IhKCWxmstyczgdX=s64",
      "userId": "16677175421570608329"
     },
     "user_tz": -540
    },
    "id": "Lbxb2xFxIIoh",
    "outputId": "083e98af-938d-418e-9b75-d6b451632513"
   },
   "outputs": [
    {
     "data": {
      "text/plain": [
       "PassengerId    0\n",
       "Survived       0\n",
       "Pclass         0\n",
       "Name           0\n",
       "Sex            0\n",
       "Age            0\n",
       "SibSp          0\n",
       "Parch          0\n",
       "Ticket         0\n",
       "Fare           0\n",
       "Embarked       0\n",
       "dtype: int64"
      ]
     },
     "execution_count": 17,
     "metadata": {},
     "output_type": "execute_result"
    }
   ],
   "source": [
    "df.isnull().sum()"
   ]
  },
  {
   "cell_type": "code",
   "execution_count": 18,
   "metadata": {
    "colab": {
     "base_uri": "https://localhost:8080/",
     "height": 204
    },
    "colab_type": "code",
    "executionInfo": {
     "elapsed": 1573,
     "status": "ok",
     "timestamp": 1588134310054,
     "user": {
      "displayName": "Chiharu Yanai",
      "photoUrl": "https://lh3.googleusercontent.com/a-/AOh14GhBKXjhTGhE1u0wV2K1woTi0IhKCWxmstyczgdX=s64",
      "userId": "16677175421570608329"
     },
     "user_tz": -540
    },
    "id": "MF_mGaP3IMnt",
    "outputId": "40ce1b15-221f-4743-80fd-7312b37fc11a"
   },
   "outputs": [
    {
     "data": {
      "text/plain": [
       "PassengerId    0\n",
       "Pclass         0\n",
       "Name           0\n",
       "Sex            0\n",
       "Age            0\n",
       "SibSp          0\n",
       "Parch          0\n",
       "Ticket         0\n",
       "Fare           0\n",
       "Embarked       0\n",
       "dtype: int64"
      ]
     },
     "execution_count": 18,
     "metadata": {},
     "output_type": "execute_result"
    }
   ],
   "source": [
    "df_test.isnull().sum()"
   ]
  },
  {
   "cell_type": "code",
   "execution_count": 19,
   "metadata": {
    "colab": {
     "base_uri": "https://localhost:8080/",
     "height": 204
    },
    "colab_type": "code",
    "executionInfo": {
     "elapsed": 1326,
     "status": "ok",
     "timestamp": 1588134310057,
     "user": {
      "displayName": "Chiharu Yanai",
      "photoUrl": "https://lh3.googleusercontent.com/a-/AOh14GhBKXjhTGhE1u0wV2K1woTi0IhKCWxmstyczgdX=s64",
      "userId": "16677175421570608329"
     },
     "user_tz": -540
    },
    "id": "_HeNymW-IQZS",
    "outputId": "1fe767d0-9bbe-4ccf-d456-825e423cba25"
   },
   "outputs": [
    {
     "data": {
      "text/html": [
       "<div>\n",
       "<style scoped>\n",
       "    .dataframe tbody tr th:only-of-type {\n",
       "        vertical-align: middle;\n",
       "    }\n",
       "\n",
       "    .dataframe tbody tr th {\n",
       "        vertical-align: top;\n",
       "    }\n",
       "\n",
       "    .dataframe thead th {\n",
       "        text-align: right;\n",
       "    }\n",
       "</style>\n",
       "<table border=\"1\" class=\"dataframe\">\n",
       "  <thead>\n",
       "    <tr style=\"text-align: right;\">\n",
       "      <th></th>\n",
       "      <th>PassengerId</th>\n",
       "      <th>Survived</th>\n",
       "      <th>Pclass</th>\n",
       "      <th>Sex</th>\n",
       "      <th>Age</th>\n",
       "      <th>SibSp</th>\n",
       "      <th>Parch</th>\n",
       "      <th>Fare</th>\n",
       "      <th>Embarked</th>\n",
       "    </tr>\n",
       "  </thead>\n",
       "  <tbody>\n",
       "    <tr>\n",
       "      <th>0</th>\n",
       "      <td>1</td>\n",
       "      <td>0</td>\n",
       "      <td>3</td>\n",
       "      <td>0</td>\n",
       "      <td>22.0</td>\n",
       "      <td>1</td>\n",
       "      <td>0</td>\n",
       "      <td>7.2500</td>\n",
       "      <td>S</td>\n",
       "    </tr>\n",
       "    <tr>\n",
       "      <th>1</th>\n",
       "      <td>2</td>\n",
       "      <td>1</td>\n",
       "      <td>1</td>\n",
       "      <td>1</td>\n",
       "      <td>38.0</td>\n",
       "      <td>1</td>\n",
       "      <td>0</td>\n",
       "      <td>71.2833</td>\n",
       "      <td>C</td>\n",
       "    </tr>\n",
       "    <tr>\n",
       "      <th>2</th>\n",
       "      <td>3</td>\n",
       "      <td>1</td>\n",
       "      <td>3</td>\n",
       "      <td>1</td>\n",
       "      <td>26.0</td>\n",
       "      <td>0</td>\n",
       "      <td>0</td>\n",
       "      <td>7.9250</td>\n",
       "      <td>S</td>\n",
       "    </tr>\n",
       "    <tr>\n",
       "      <th>3</th>\n",
       "      <td>4</td>\n",
       "      <td>1</td>\n",
       "      <td>1</td>\n",
       "      <td>1</td>\n",
       "      <td>35.0</td>\n",
       "      <td>1</td>\n",
       "      <td>0</td>\n",
       "      <td>53.1000</td>\n",
       "      <td>S</td>\n",
       "    </tr>\n",
       "    <tr>\n",
       "      <th>4</th>\n",
       "      <td>5</td>\n",
       "      <td>0</td>\n",
       "      <td>3</td>\n",
       "      <td>0</td>\n",
       "      <td>35.0</td>\n",
       "      <td>0</td>\n",
       "      <td>0</td>\n",
       "      <td>8.0500</td>\n",
       "      <td>S</td>\n",
       "    </tr>\n",
       "  </tbody>\n",
       "</table>\n",
       "</div>"
      ],
      "text/plain": [
       "   PassengerId  Survived  Pclass  Sex   Age  SibSp  Parch     Fare Embarked\n",
       "0            1         0       3    0  22.0      1      0   7.2500        S\n",
       "1            2         1       1    1  38.0      1      0  71.2833        C\n",
       "2            3         1       3    1  26.0      0      0   7.9250        S\n",
       "3            4         1       1    1  35.0      1      0  53.1000        S\n",
       "4            5         0       3    0  35.0      0      0   8.0500        S"
      ]
     },
     "execution_count": 19,
     "metadata": {},
     "output_type": "execute_result"
    }
   ],
   "source": [
    "df.drop('Name', axis=1, inplace=True)\n",
    "df_test.drop('Name', axis=1, inplace=True)\n",
    "\n",
    "df.drop('Ticket', axis=1, inplace=True)\n",
    "df_test.drop('Ticket', axis=1, inplace=True)\n",
    "\n",
    "df.replace({'Sex': {'male': 0, 'female': 1}}, inplace=True)\n",
    "df_test.replace({'Sex': {'male': 0, 'female': 1}}, inplace=True)\n",
    "\n",
    "df.head()"
   ]
  },
  {
   "cell_type": "code",
   "execution_count": 20,
   "metadata": {
    "colab": {},
    "colab_type": "code",
    "id": "9b9IOrV6IYBC"
   },
   "outputs": [],
   "source": [
    "df = pd.get_dummies(df)\n",
    "df_test = pd.get_dummies(df_test)"
   ]
  },
  {
   "cell_type": "code",
   "execution_count": 21,
   "metadata": {
    "colab": {
     "base_uri": "https://localhost:8080/",
     "height": 34
    },
    "colab_type": "code",
    "executionInfo": {
     "elapsed": 2358,
     "status": "ok",
     "timestamp": 1588134311643,
     "user": {
      "displayName": "Chiharu Yanai",
      "photoUrl": "https://lh3.googleusercontent.com/a-/AOh14GhBKXjhTGhE1u0wV2K1woTi0IhKCWxmstyczgdX=s64",
      "userId": "16677175421570608329"
     },
     "user_tz": -540
    },
    "id": "Qfa7rSocJZxj",
    "outputId": "e3635d2a-1b4e-4ca3-f414-88e61af72462"
   },
   "outputs": [
    {
     "name": "stdout",
     "output_type": "stream",
     "text": [
      "(891, 11) (418, 10)\n"
     ]
    }
   ],
   "source": [
    "print(df.shape, df_test.shape)"
   ]
  },
  {
   "cell_type": "code",
   "execution_count": 22,
   "metadata": {
    "colab": {},
    "colab_type": "code",
    "id": "3XTlGzxJJmSc"
   },
   "outputs": [],
   "source": [
    "y = df['Survived']\n",
    "X = df.drop('Survived', axis=1)"
   ]
  },
  {
   "cell_type": "code",
   "execution_count": 23,
   "metadata": {
    "colab": {
     "base_uri": "https://localhost:8080/",
     "height": 34
    },
    "colab_type": "code",
    "executionInfo": {
     "elapsed": 1917,
     "status": "ok",
     "timestamp": 1588134311645,
     "user": {
      "displayName": "Chiharu Yanai",
      "photoUrl": "https://lh3.googleusercontent.com/a-/AOh14GhBKXjhTGhE1u0wV2K1woTi0IhKCWxmstyczgdX=s64",
      "userId": "16677175421570608329"
     },
     "user_tz": -540
    },
    "id": "GkDXd-iXKOG_",
    "outputId": "ad930aa5-18a5-4c0b-c7d8-dba58d26e73a"
   },
   "outputs": [
    {
     "data": {
      "text/plain": [
       "(891, 10)"
      ]
     },
     "execution_count": 23,
     "metadata": {},
     "output_type": "execute_result"
    }
   ],
   "source": [
    "X.shape"
   ]
  },
  {
   "cell_type": "code",
   "execution_count": 24,
   "metadata": {
    "colab": {},
    "colab_type": "code",
    "id": "q1fRcD4xKSjG"
   },
   "outputs": [],
   "source": [
    "y = y.values\n",
    "X = X.values"
   ]
  },
  {
   "cell_type": "code",
   "execution_count": 25,
   "metadata": {
    "colab": {},
    "colab_type": "code",
    "id": "2tT_OODLKga3"
   },
   "outputs": [],
   "source": [
    "X_train, X_valid, y_train, y_valid = train_test_split(X, y, test_size=0.3, random_state=0)"
   ]
  },
  {
   "cell_type": "code",
   "execution_count": 26,
   "metadata": {
    "colab": {
     "base_uri": "https://localhost:8080/",
     "height": 34
    },
    "colab_type": "code",
    "executionInfo": {
     "elapsed": 2966,
     "status": "ok",
     "timestamp": 1588134314152,
     "user": {
      "displayName": "Chiharu Yanai",
      "photoUrl": "https://lh3.googleusercontent.com/a-/AOh14GhBKXjhTGhE1u0wV2K1woTi0IhKCWxmstyczgdX=s64",
      "userId": "16677175421570608329"
     },
     "user_tz": -540
    },
    "id": "nSV2LOoNK9na",
    "outputId": "b537e239-0ffc-436b-c07f-633a0f9ff976"
   },
   "outputs": [
    {
     "data": {
      "text/plain": [
       "(dtype('float64'), (623, 10))"
      ]
     },
     "execution_count": 26,
     "metadata": {},
     "output_type": "execute_result"
    }
   ],
   "source": [
    "X_train.dtype, X_train.shape"
   ]
  },
  {
   "cell_type": "code",
   "execution_count": 27,
   "metadata": {
    "colab": {},
    "colab_type": "code",
    "id": "eiQGm7w6LFeR"
   },
   "outputs": [],
   "source": [
    "X_train = np.array(X_train, np.float32)\n",
    "X_valid = np.array(X_valid, np.float32)\n",
    "y_train = np.array(y_train, np.int32)\n",
    "y_valid = np.array(y_valid, np.int32)"
   ]
  },
  {
   "cell_type": "code",
   "execution_count": 28,
   "metadata": {
    "colab": {},
    "colab_type": "code",
    "id": "gO-N0UEQMLwa"
   },
   "outputs": [],
   "source": [
    "import os, random\n",
    "\n",
    "def reset_seed(seed=0):\n",
    "    os.environ['PYTHONHASHSEED'] = '0'\n",
    "    random.seed(seed)\n",
    "    np.random.seed(seed)\n",
    "    tf.random.set_seed(seed)"
   ]
  },
  {
   "cell_type": "code",
   "execution_count": 29,
   "metadata": {
    "colab": {
     "base_uri": "https://localhost:8080/",
     "height": 255
    },
    "colab_type": "code",
    "executionInfo": {
     "elapsed": 2361,
     "status": "ok",
     "timestamp": 1588134314157,
     "user": {
      "displayName": "Chiharu Yanai",
      "photoUrl": "https://lh3.googleusercontent.com/a-/AOh14GhBKXjhTGhE1u0wV2K1woTi0IhKCWxmstyczgdX=s64",
      "userId": "16677175421570608329"
     },
     "user_tz": -540
    },
    "id": "agp0aDgXMYF4",
    "outputId": "df8608d4-1b95-40d2-baa6-26403d47216d"
   },
   "outputs": [
    {
     "name": "stdout",
     "output_type": "stream",
     "text": [
      "Model: \"sequential\"\n",
      "_________________________________________________________________\n",
      "Layer (type)                 Output Shape              Param #   \n",
      "=================================================================\n",
      "batch_normalization (BatchNo (None, 10)                40        \n",
      "_________________________________________________________________\n",
      "dense (Dense)                (None, 10)                110       \n",
      "_________________________________________________________________\n",
      "dense_1 (Dense)              (None, 2)                 22        \n",
      "=================================================================\n",
      "Total params: 172\n",
      "Trainable params: 152\n",
      "Non-trainable params: 20\n",
      "_________________________________________________________________\n"
     ]
    }
   ],
   "source": [
    "reset_seed(0)\n",
    "\n",
    "model = Sequential()\n",
    "model.add(BatchNormalization(input_shape=(10, )))\n",
    "model.add(Dense(10, activation='relu'))\n",
    "model.add(Dense(2, activation='softmax'))\n",
    "\n",
    "model.compile(loss='sparse_categorical_crossentropy',\n",
    "              optimizer='adam',\n",
    "              metrics=['accuracy'])\n",
    "\n",
    "model.summary()"
   ]
  },
  {
   "cell_type": "code",
   "execution_count": 30,
   "metadata": {
    "colab": {
     "base_uri": "https://localhost:8080/",
     "height": 416
    },
    "colab_type": "code",
    "executionInfo": {
     "elapsed": 2731,
     "status": "ok",
     "timestamp": 1588134314739,
     "user": {
      "displayName": "Chiharu Yanai",
      "photoUrl": "https://lh3.googleusercontent.com/a-/AOh14GhBKXjhTGhE1u0wV2K1woTi0IhKCWxmstyczgdX=s64",
      "userId": "16677175421570608329"
     },
     "user_tz": -540
    },
    "id": "Og-vbm2xPZVe",
    "outputId": "7203196a-98ee-4f16-932e-21f1bb644ffd"
   },
   "outputs": [
    {
     "data": {
      "image/svg+xml": [
       "<svg height=\"296pt\" viewBox=\"0.00 0.00 369.00 304.00\" width=\"359pt\" xmlns=\"http://www.w3.org/2000/svg\" xmlns:xlink=\"http://www.w3.org/1999/xlink\">\n",
       "<g class=\"graph\" id=\"graph0\" transform=\"scale(.9722 .9722) rotate(0) translate(4 300)\">\n",
       "<title>G</title>\n",
       "<polygon fill=\"#ffffff\" points=\"-4,4 -4,-300 365,-300 365,4 -4,4\" stroke=\"transparent\"/>\n",
       "<!-- 4405338512 -->\n",
       "<g class=\"node\" id=\"node1\">\n",
       "<title>4405338512</title>\n",
       "<polygon fill=\"none\" points=\"3,-249.5 3,-295.5 358,-295.5 358,-249.5 3,-249.5\" stroke=\"#000000\"/>\n",
       "<text fill=\"#000000\" font-family=\"Times,serif\" font-size=\"14.00\" text-anchor=\"middle\" x=\"121.5\" y=\"-268.8\">batch_normalization_input: InputLayer</text>\n",
       "<polyline fill=\"none\" points=\"240,-249.5 240,-295.5 \" stroke=\"#000000\"/>\n",
       "<text fill=\"#000000\" font-family=\"Times,serif\" font-size=\"14.00\" text-anchor=\"middle\" x=\"268\" y=\"-280.3\">input:</text>\n",
       "<polyline fill=\"none\" points=\"240,-272.5 296,-272.5 \" stroke=\"#000000\"/>\n",
       "<text fill=\"#000000\" font-family=\"Times,serif\" font-size=\"14.00\" text-anchor=\"middle\" x=\"268\" y=\"-257.3\">output:</text>\n",
       "<polyline fill=\"none\" points=\"296,-249.5 296,-295.5 \" stroke=\"#000000\"/>\n",
       "<text fill=\"#000000\" font-family=\"Times,serif\" font-size=\"14.00\" text-anchor=\"middle\" x=\"327\" y=\"-280.3\">[(?, 10)]</text>\n",
       "<polyline fill=\"none\" points=\"296,-272.5 358,-272.5 \" stroke=\"#000000\"/>\n",
       "<text fill=\"#000000\" font-family=\"Times,serif\" font-size=\"14.00\" text-anchor=\"middle\" x=\"327\" y=\"-257.3\">[(?, 10)]</text>\n",
       "</g>\n",
       "<!-- 112804010832 -->\n",
       "<g class=\"node\" id=\"node2\">\n",
       "<title>112804010832</title>\n",
       "<polygon fill=\"none\" points=\"0,-166.5 0,-212.5 361,-212.5 361,-166.5 0,-166.5\" stroke=\"#000000\"/>\n",
       "<text fill=\"#000000\" font-family=\"Times,serif\" font-size=\"14.00\" text-anchor=\"middle\" x=\"126\" y=\"-185.8\">batch_normalization: BatchNormalization</text>\n",
       "<polyline fill=\"none\" points=\"252,-166.5 252,-212.5 \" stroke=\"#000000\"/>\n",
       "<text fill=\"#000000\" font-family=\"Times,serif\" font-size=\"14.00\" text-anchor=\"middle\" x=\"280\" y=\"-197.3\">input:</text>\n",
       "<polyline fill=\"none\" points=\"252,-189.5 308,-189.5 \" stroke=\"#000000\"/>\n",
       "<text fill=\"#000000\" font-family=\"Times,serif\" font-size=\"14.00\" text-anchor=\"middle\" x=\"280\" y=\"-174.3\">output:</text>\n",
       "<polyline fill=\"none\" points=\"308,-166.5 308,-212.5 \" stroke=\"#000000\"/>\n",
       "<text fill=\"#000000\" font-family=\"Times,serif\" font-size=\"14.00\" text-anchor=\"middle\" x=\"334.5\" y=\"-197.3\">(?, 10)</text>\n",
       "<polyline fill=\"none\" points=\"308,-189.5 361,-189.5 \" stroke=\"#000000\"/>\n",
       "<text fill=\"#000000\" font-family=\"Times,serif\" font-size=\"14.00\" text-anchor=\"middle\" x=\"334.5\" y=\"-174.3\">(?, 10)</text>\n",
       "</g>\n",
       "<!-- 4405338512&#45;&gt;112804010832 -->\n",
       "<g class=\"edge\" id=\"edge1\">\n",
       "<title>4405338512-&gt;112804010832</title>\n",
       "<path d=\"M180.5,-249.3799C180.5,-241.1745 180.5,-231.7679 180.5,-222.8786\" fill=\"none\" stroke=\"#000000\"/>\n",
       "<polygon fill=\"#000000\" points=\"184.0001,-222.784 180.5,-212.784 177.0001,-222.784 184.0001,-222.784\" stroke=\"#000000\"/>\n",
       "</g>\n",
       "<!-- 112804010960 -->\n",
       "<g class=\"node\" id=\"node3\">\n",
       "<title>112804010960</title>\n",
       "<polygon fill=\"none\" points=\"80.5,-83.5 80.5,-129.5 280.5,-129.5 280.5,-83.5 80.5,-83.5\" stroke=\"#000000\"/>\n",
       "<text fill=\"#000000\" font-family=\"Times,serif\" font-size=\"14.00\" text-anchor=\"middle\" x=\"126\" y=\"-102.8\">dense: Dense</text>\n",
       "<polyline fill=\"none\" points=\"171.5,-83.5 171.5,-129.5 \" stroke=\"#000000\"/>\n",
       "<text fill=\"#000000\" font-family=\"Times,serif\" font-size=\"14.00\" text-anchor=\"middle\" x=\"199.5\" y=\"-114.3\">input:</text>\n",
       "<polyline fill=\"none\" points=\"171.5,-106.5 227.5,-106.5 \" stroke=\"#000000\"/>\n",
       "<text fill=\"#000000\" font-family=\"Times,serif\" font-size=\"14.00\" text-anchor=\"middle\" x=\"199.5\" y=\"-91.3\">output:</text>\n",
       "<polyline fill=\"none\" points=\"227.5,-83.5 227.5,-129.5 \" stroke=\"#000000\"/>\n",
       "<text fill=\"#000000\" font-family=\"Times,serif\" font-size=\"14.00\" text-anchor=\"middle\" x=\"254\" y=\"-114.3\">(?, 10)</text>\n",
       "<polyline fill=\"none\" points=\"227.5,-106.5 280.5,-106.5 \" stroke=\"#000000\"/>\n",
       "<text fill=\"#000000\" font-family=\"Times,serif\" font-size=\"14.00\" text-anchor=\"middle\" x=\"254\" y=\"-91.3\">(?, 10)</text>\n",
       "</g>\n",
       "<!-- 112804010832&#45;&gt;112804010960 -->\n",
       "<g class=\"edge\" id=\"edge2\">\n",
       "<title>112804010832-&gt;112804010960</title>\n",
       "<path d=\"M180.5,-166.3799C180.5,-158.1745 180.5,-148.7679 180.5,-139.8786\" fill=\"none\" stroke=\"#000000\"/>\n",
       "<polygon fill=\"#000000\" points=\"184.0001,-139.784 180.5,-129.784 177.0001,-139.784 184.0001,-139.784\" stroke=\"#000000\"/>\n",
       "</g>\n",
       "<!-- 112804009552 -->\n",
       "<g class=\"node\" id=\"node4\">\n",
       "<title>112804009552</title>\n",
       "<polygon fill=\"none\" points=\"73.5,-.5 73.5,-46.5 287.5,-46.5 287.5,-.5 73.5,-.5\" stroke=\"#000000\"/>\n",
       "<text fill=\"#000000\" font-family=\"Times,serif\" font-size=\"14.00\" text-anchor=\"middle\" x=\"126\" y=\"-19.8\">dense_1: Dense</text>\n",
       "<polyline fill=\"none\" points=\"178.5,-.5 178.5,-46.5 \" stroke=\"#000000\"/>\n",
       "<text fill=\"#000000\" font-family=\"Times,serif\" font-size=\"14.00\" text-anchor=\"middle\" x=\"206.5\" y=\"-31.3\">input:</text>\n",
       "<polyline fill=\"none\" points=\"178.5,-23.5 234.5,-23.5 \" stroke=\"#000000\"/>\n",
       "<text fill=\"#000000\" font-family=\"Times,serif\" font-size=\"14.00\" text-anchor=\"middle\" x=\"206.5\" y=\"-8.3\">output:</text>\n",
       "<polyline fill=\"none\" points=\"234.5,-.5 234.5,-46.5 \" stroke=\"#000000\"/>\n",
       "<text fill=\"#000000\" font-family=\"Times,serif\" font-size=\"14.00\" text-anchor=\"middle\" x=\"261\" y=\"-31.3\">(?, 10)</text>\n",
       "<polyline fill=\"none\" points=\"234.5,-23.5 287.5,-23.5 \" stroke=\"#000000\"/>\n",
       "<text fill=\"#000000\" font-family=\"Times,serif\" font-size=\"14.00\" text-anchor=\"middle\" x=\"261\" y=\"-8.3\">(?, 2)</text>\n",
       "</g>\n",
       "<!-- 112804010960&#45;&gt;112804009552 -->\n",
       "<g class=\"edge\" id=\"edge3\">\n",
       "<title>112804010960-&gt;112804009552</title>\n",
       "<path d=\"M180.5,-83.3799C180.5,-75.1745 180.5,-65.7679 180.5,-56.8786\" fill=\"none\" stroke=\"#000000\"/>\n",
       "<polygon fill=\"#000000\" points=\"184.0001,-56.784 180.5,-46.784 177.0001,-56.784 184.0001,-56.784\" stroke=\"#000000\"/>\n",
       "</g>\n",
       "</g>\n",
       "</svg>"
      ],
      "text/plain": [
       "<IPython.core.display.SVG object>"
      ]
     },
     "execution_count": 30,
     "metadata": {},
     "output_type": "execute_result"
    }
   ],
   "source": [
    "SVG(model_to_dot(model, show_layer_names=True, show_shapes=True, dpi=70).create(prog='dot', format='svg'))"
   ]
  },
  {
   "cell_type": "code",
   "execution_count": 31,
   "metadata": {
    "colab": {
     "base_uri": "https://localhost:8080/",
     "height": 1000
    },
    "colab_type": "code",
    "executionInfo": {
     "elapsed": 23488,
     "status": "ok",
     "timestamp": 1588134337002,
     "user": {
      "displayName": "Chiharu Yanai",
      "photoUrl": "https://lh3.googleusercontent.com/a-/AOh14GhBKXjhTGhE1u0wV2K1woTi0IhKCWxmstyczgdX=s64",
      "userId": "16677175421570608329"
     },
     "user_tz": -540
    },
    "id": "xnYpLnLEOpfX",
    "outputId": "73767755-7e61-4294-8508-4391d7c910df"
   },
   "outputs": [
    {
     "name": "stdout",
     "output_type": "stream",
     "text": [
      "Train on 623 samples, validate on 268 samples\n",
      "Epoch 1/100\n",
      "623/623 [==============================] - 3s 5ms/sample - loss: 0.9259 - accuracy: 0.4446 - val_loss: 1.6513 - val_accuracy: 0.3545\n",
      "Epoch 2/100\n",
      "623/623 [==============================] - 0s 517us/sample - loss: 0.6586 - accuracy: 0.6164 - val_loss: 0.7561 - val_accuracy: 0.5410\n",
      "Epoch 3/100\n",
      "623/623 [==============================] - 0s 507us/sample - loss: 0.5623 - accuracy: 0.7095 - val_loss: 0.5636 - val_accuracy: 0.6978\n",
      "Epoch 4/100\n",
      "623/623 [==============================] - 0s 527us/sample - loss: 0.5412 - accuracy: 0.7464 - val_loss: 0.5013 - val_accuracy: 0.7687\n",
      "Epoch 5/100\n",
      "623/623 [==============================] - 0s 717us/sample - loss: 0.5024 - accuracy: 0.7881 - val_loss: 0.4763 - val_accuracy: 0.7761\n",
      "Epoch 6/100\n",
      "623/623 [==============================] - 1s 1ms/sample - loss: 0.4963 - accuracy: 0.7737 - val_loss: 0.4648 - val_accuracy: 0.7985\n",
      "Epoch 7/100\n",
      "623/623 [==============================] - 0s 683us/sample - loss: 0.4872 - accuracy: 0.7753 - val_loss: 0.4589 - val_accuracy: 0.7985\n",
      "Epoch 8/100\n",
      "623/623 [==============================] - 0s 713us/sample - loss: 0.4729 - accuracy: 0.7978 - val_loss: 0.4523 - val_accuracy: 0.7985\n",
      "Epoch 9/100\n",
      "623/623 [==============================] - 1s 870us/sample - loss: 0.4701 - accuracy: 0.8058 - val_loss: 0.4459 - val_accuracy: 0.7985\n",
      "Epoch 10/100\n",
      "623/623 [==============================] - 1s 847us/sample - loss: 0.4806 - accuracy: 0.7961 - val_loss: 0.4446 - val_accuracy: 0.8022\n",
      "Epoch 11/100\n",
      "623/623 [==============================] - 1s 868us/sample - loss: 0.4720 - accuracy: 0.7913 - val_loss: 0.4424 - val_accuracy: 0.8060\n",
      "Epoch 12/100\n",
      "623/623 [==============================] - 0s 654us/sample - loss: 0.4888 - accuracy: 0.7673 - val_loss: 0.4413 - val_accuracy: 0.8060\n",
      "Epoch 13/100\n",
      "623/623 [==============================] - 0s 676us/sample - loss: 0.4668 - accuracy: 0.7929 - val_loss: 0.4417 - val_accuracy: 0.8022\n",
      "Epoch 14/100\n",
      "623/623 [==============================] - 0s 732us/sample - loss: 0.4676 - accuracy: 0.8010 - val_loss: 0.4410 - val_accuracy: 0.8022\n",
      "Epoch 15/100\n",
      "623/623 [==============================] - 0s 647us/sample - loss: 0.4538 - accuracy: 0.8058 - val_loss: 0.4409 - val_accuracy: 0.8022\n",
      "Epoch 16/100\n",
      "623/623 [==============================] - 0s 695us/sample - loss: 0.4680 - accuracy: 0.7994 - val_loss: 0.4407 - val_accuracy: 0.7985\n",
      "Epoch 17/100\n",
      "623/623 [==============================] - 1s 820us/sample - loss: 0.4560 - accuracy: 0.8154 - val_loss: 0.4395 - val_accuracy: 0.8097\n",
      "Epoch 18/100\n",
      "623/623 [==============================] - 0s 788us/sample - loss: 0.4628 - accuracy: 0.8058 - val_loss: 0.4376 - val_accuracy: 0.8134\n",
      "Epoch 19/100\n",
      "623/623 [==============================] - 1s 1ms/sample - loss: 0.4616 - accuracy: 0.7961 - val_loss: 0.4390 - val_accuracy: 0.8097\n",
      "Epoch 20/100\n",
      "623/623 [==============================] - 1s 1ms/sample - loss: 0.4637 - accuracy: 0.8010 - val_loss: 0.4361 - val_accuracy: 0.8022\n",
      "Epoch 21/100\n",
      "623/623 [==============================] - 1s 1ms/sample - loss: 0.4601 - accuracy: 0.7961 - val_loss: 0.4332 - val_accuracy: 0.8134\n",
      "Epoch 22/100\n",
      "623/623 [==============================] - 1s 964us/sample - loss: 0.4671 - accuracy: 0.7865 - val_loss: 0.4343 - val_accuracy: 0.8134\n",
      "Epoch 23/100\n",
      "623/623 [==============================] - 1s 912us/sample - loss: 0.4498 - accuracy: 0.8010 - val_loss: 0.4328 - val_accuracy: 0.8097\n",
      "Epoch 24/100\n",
      "623/623 [==============================] - 0s 610us/sample - loss: 0.4589 - accuracy: 0.8010 - val_loss: 0.4307 - val_accuracy: 0.7948\n",
      "Epoch 25/100\n",
      "623/623 [==============================] - 0s 633us/sample - loss: 0.4593 - accuracy: 0.8010 - val_loss: 0.4298 - val_accuracy: 0.8060\n",
      "Epoch 26/100\n",
      "623/623 [==============================] - 0s 626us/sample - loss: 0.4442 - accuracy: 0.8026 - val_loss: 0.4319 - val_accuracy: 0.8022\n",
      "Epoch 27/100\n",
      "623/623 [==============================] - 1s 888us/sample - loss: 0.4561 - accuracy: 0.8042 - val_loss: 0.4302 - val_accuracy: 0.8022\n",
      "Epoch 28/100\n",
      "623/623 [==============================] - 0s 802us/sample - loss: 0.4613 - accuracy: 0.8090 - val_loss: 0.4328 - val_accuracy: 0.7948\n",
      "Epoch 29/100\n",
      "623/623 [==============================] - 0s 580us/sample - loss: 0.4564 - accuracy: 0.8058 - val_loss: 0.4322 - val_accuracy: 0.7985\n",
      "Epoch 30/100\n",
      "623/623 [==============================] - 0s 637us/sample - loss: 0.4498 - accuracy: 0.8122 - val_loss: 0.4312 - val_accuracy: 0.8022\n",
      "Epoch 31/100\n",
      "623/623 [==============================] - 0s 730us/sample - loss: 0.4455 - accuracy: 0.7994 - val_loss: 0.4307 - val_accuracy: 0.8022\n",
      "Epoch 32/100\n",
      "623/623 [==============================] - 0s 783us/sample - loss: 0.4617 - accuracy: 0.8010 - val_loss: 0.4291 - val_accuracy: 0.8060\n",
      "Epoch 33/100\n",
      "623/623 [==============================] - 0s 683us/sample - loss: 0.4532 - accuracy: 0.8122 - val_loss: 0.4305 - val_accuracy: 0.8060\n",
      "Epoch 34/100\n",
      "623/623 [==============================] - 0s 614us/sample - loss: 0.4605 - accuracy: 0.8058 - val_loss: 0.4283 - val_accuracy: 0.8060\n",
      "Epoch 35/100\n",
      "623/623 [==============================] - 0s 622us/sample - loss: 0.4202 - accuracy: 0.8299 - val_loss: 0.4272 - val_accuracy: 0.7948\n",
      "Epoch 36/100\n",
      "623/623 [==============================] - 0s 601us/sample - loss: 0.4484 - accuracy: 0.8074 - val_loss: 0.4294 - val_accuracy: 0.7948\n",
      "Epoch 37/100\n",
      "623/623 [==============================] - 0s 751us/sample - loss: 0.4462 - accuracy: 0.8154 - val_loss: 0.4294 - val_accuracy: 0.8097\n",
      "Epoch 38/100\n",
      "623/623 [==============================] - 1s 806us/sample - loss: 0.4460 - accuracy: 0.8202 - val_loss: 0.4295 - val_accuracy: 0.8097\n",
      "Epoch 39/100\n",
      "623/623 [==============================] - 0s 695us/sample - loss: 0.4536 - accuracy: 0.8122 - val_loss: 0.4322 - val_accuracy: 0.8060\n",
      "Epoch 40/100\n",
      "623/623 [==============================] - 0s 575us/sample - loss: 0.4609 - accuracy: 0.7929 - val_loss: 0.4317 - val_accuracy: 0.7985\n",
      "Epoch 41/100\n",
      "623/623 [==============================] - 0s 627us/sample - loss: 0.4589 - accuracy: 0.8122 - val_loss: 0.4301 - val_accuracy: 0.7910\n",
      "Epoch 42/100\n",
      "623/623 [==============================] - 0s 562us/sample - loss: 0.4363 - accuracy: 0.8170 - val_loss: 0.4294 - val_accuracy: 0.7985\n",
      "Epoch 43/100\n",
      "623/623 [==============================] - 0s 585us/sample - loss: 0.4418 - accuracy: 0.8106 - val_loss: 0.4290 - val_accuracy: 0.8022\n",
      "Epoch 44/100\n",
      "623/623 [==============================] - 0s 578us/sample - loss: 0.4382 - accuracy: 0.8186 - val_loss: 0.4312 - val_accuracy: 0.7985\n",
      "Epoch 45/100\n",
      "623/623 [==============================] - 0s 563us/sample - loss: 0.4353 - accuracy: 0.8154 - val_loss: 0.4302 - val_accuracy: 0.8060\n",
      "Epoch 46/100\n",
      "623/623 [==============================] - 0s 569us/sample - loss: 0.4401 - accuracy: 0.8122 - val_loss: 0.4288 - val_accuracy: 0.8022\n",
      "Epoch 47/100\n",
      "623/623 [==============================] - 0s 564us/sample - loss: 0.4416 - accuracy: 0.8138 - val_loss: 0.4293 - val_accuracy: 0.7948\n",
      "Epoch 48/100\n",
      "623/623 [==============================] - 0s 566us/sample - loss: 0.4320 - accuracy: 0.8090 - val_loss: 0.4281 - val_accuracy: 0.7948\n",
      "Epoch 49/100\n",
      "623/623 [==============================] - 0s 575us/sample - loss: 0.4468 - accuracy: 0.8010 - val_loss: 0.4285 - val_accuracy: 0.8022\n",
      "Epoch 50/100\n",
      "623/623 [==============================] - 0s 572us/sample - loss: 0.4382 - accuracy: 0.8138 - val_loss: 0.4283 - val_accuracy: 0.8097\n",
      "Epoch 51/100\n",
      "623/623 [==============================] - 0s 609us/sample - loss: 0.4374 - accuracy: 0.8138 - val_loss: 0.4305 - val_accuracy: 0.7910\n",
      "Epoch 52/100\n",
      "623/623 [==============================] - 0s 590us/sample - loss: 0.4361 - accuracy: 0.8122 - val_loss: 0.4300 - val_accuracy: 0.7948\n",
      "Epoch 53/100\n",
      "623/623 [==============================] - 0s 632us/sample - loss: 0.4311 - accuracy: 0.8186 - val_loss: 0.4309 - val_accuracy: 0.7948\n",
      "Epoch 54/100\n",
      "623/623 [==============================] - 0s 579us/sample - loss: 0.4305 - accuracy: 0.8250 - val_loss: 0.4303 - val_accuracy: 0.7985\n",
      "Epoch 55/100\n",
      "623/623 [==============================] - 0s 580us/sample - loss: 0.4257 - accuracy: 0.8266 - val_loss: 0.4294 - val_accuracy: 0.8022\n",
      "Epoch 56/100\n",
      "623/623 [==============================] - 0s 528us/sample - loss: 0.4318 - accuracy: 0.8170 - val_loss: 0.4296 - val_accuracy: 0.7948\n",
      "Epoch 57/100\n",
      "623/623 [==============================] - 0s 563us/sample - loss: 0.4428 - accuracy: 0.8058 - val_loss: 0.4270 - val_accuracy: 0.7985\n",
      "Epoch 58/100\n",
      "623/623 [==============================] - 0s 537us/sample - loss: 0.4378 - accuracy: 0.8202 - val_loss: 0.4283 - val_accuracy: 0.8022\n",
      "Epoch 59/100\n",
      "623/623 [==============================] - 0s 554us/sample - loss: 0.4407 - accuracy: 0.8154 - val_loss: 0.4270 - val_accuracy: 0.8097\n",
      "Epoch 60/100\n",
      "623/623 [==============================] - 0s 516us/sample - loss: 0.4150 - accuracy: 0.8266 - val_loss: 0.4279 - val_accuracy: 0.8134\n",
      "Epoch 61/100\n",
      "623/623 [==============================] - 0s 557us/sample - loss: 0.4467 - accuracy: 0.8090 - val_loss: 0.4285 - val_accuracy: 0.8060\n",
      "Epoch 62/100\n",
      "623/623 [==============================] - 0s 513us/sample - loss: 0.4231 - accuracy: 0.8186 - val_loss: 0.4251 - val_accuracy: 0.8060\n",
      "Epoch 63/100\n",
      "623/623 [==============================] - 0s 578us/sample - loss: 0.4285 - accuracy: 0.8154 - val_loss: 0.4260 - val_accuracy: 0.8022\n",
      "Epoch 64/100\n",
      "623/623 [==============================] - 0s 625us/sample - loss: 0.4261 - accuracy: 0.8234 - val_loss: 0.4272 - val_accuracy: 0.8097\n",
      "Epoch 65/100\n",
      "623/623 [==============================] - 0s 801us/sample - loss: 0.4358 - accuracy: 0.8170 - val_loss: 0.4273 - val_accuracy: 0.8022\n",
      "Epoch 66/100\n",
      "623/623 [==============================] - 0s 689us/sample - loss: 0.4305 - accuracy: 0.8058 - val_loss: 0.4256 - val_accuracy: 0.8097\n",
      "Epoch 67/100\n",
      "623/623 [==============================] - 0s 762us/sample - loss: 0.4223 - accuracy: 0.8299 - val_loss: 0.4273 - val_accuracy: 0.8097\n",
      "Epoch 68/100\n",
      "623/623 [==============================] - 0s 779us/sample - loss: 0.4232 - accuracy: 0.8170 - val_loss: 0.4266 - val_accuracy: 0.8134\n",
      "Epoch 69/100\n",
      "623/623 [==============================] - 0s 788us/sample - loss: 0.4173 - accuracy: 0.8266 - val_loss: 0.4300 - val_accuracy: 0.8172\n",
      "Epoch 70/100\n",
      "623/623 [==============================] - 1s 1ms/sample - loss: 0.4336 - accuracy: 0.8154 - val_loss: 0.4259 - val_accuracy: 0.8097\n",
      "Epoch 71/100\n",
      "623/623 [==============================] - 1s 849us/sample - loss: 0.4282 - accuracy: 0.8154 - val_loss: 0.4278 - val_accuracy: 0.8134\n",
      "Epoch 72/100\n",
      "623/623 [==============================] - 0s 799us/sample - loss: 0.4187 - accuracy: 0.8315 - val_loss: 0.4286 - val_accuracy: 0.8060\n",
      "Epoch 73/100\n",
      "623/623 [==============================] - 0s 644us/sample - loss: 0.4338 - accuracy: 0.8090 - val_loss: 0.4299 - val_accuracy: 0.8172\n",
      "Epoch 74/100\n",
      "623/623 [==============================] - 0s 796us/sample - loss: 0.4226 - accuracy: 0.8266 - val_loss: 0.4266 - val_accuracy: 0.8134\n",
      "Epoch 75/100\n",
      "623/623 [==============================] - 1s 872us/sample - loss: 0.4217 - accuracy: 0.8507 - val_loss: 0.4289 - val_accuracy: 0.8134\n",
      "Epoch 76/100\n",
      "623/623 [==============================] - 0s 685us/sample - loss: 0.4491 - accuracy: 0.8234 - val_loss: 0.4274 - val_accuracy: 0.8060\n",
      "Epoch 77/100\n",
      "623/623 [==============================] - 1s 939us/sample - loss: 0.4290 - accuracy: 0.8250 - val_loss: 0.4295 - val_accuracy: 0.8134\n",
      "Epoch 78/100\n",
      "623/623 [==============================] - 1s 910us/sample - loss: 0.4333 - accuracy: 0.8122 - val_loss: 0.4291 - val_accuracy: 0.8134\n",
      "Epoch 79/100\n",
      "623/623 [==============================] - 0s 674us/sample - loss: 0.4445 - accuracy: 0.8138 - val_loss: 0.4287 - val_accuracy: 0.8060\n",
      "Epoch 80/100\n",
      "623/623 [==============================] - 0s 678us/sample - loss: 0.4100 - accuracy: 0.8266 - val_loss: 0.4269 - val_accuracy: 0.8097\n",
      "Epoch 81/100\n",
      "623/623 [==============================] - 1s 841us/sample - loss: 0.4206 - accuracy: 0.8395 - val_loss: 0.4283 - val_accuracy: 0.8134\n",
      "Epoch 82/100\n",
      "623/623 [==============================] - 0s 681us/sample - loss: 0.4301 - accuracy: 0.8058 - val_loss: 0.4252 - val_accuracy: 0.8134\n",
      "Epoch 83/100\n",
      "623/623 [==============================] - 0s 580us/sample - loss: 0.4274 - accuracy: 0.8026 - val_loss: 0.4248 - val_accuracy: 0.8097\n",
      "Epoch 84/100\n",
      "623/623 [==============================] - 1s 922us/sample - loss: 0.4266 - accuracy: 0.8266 - val_loss: 0.4228 - val_accuracy: 0.8172\n",
      "Epoch 85/100\n",
      "623/623 [==============================] - 1s 982us/sample - loss: 0.4246 - accuracy: 0.8186 - val_loss: 0.4260 - val_accuracy: 0.8172\n",
      "Epoch 86/100\n",
      "623/623 [==============================] - 0s 618us/sample - loss: 0.4310 - accuracy: 0.8218 - val_loss: 0.4255 - val_accuracy: 0.8172\n",
      "Epoch 87/100\n",
      "623/623 [==============================] - 0s 589us/sample - loss: 0.4236 - accuracy: 0.8315 - val_loss: 0.4232 - val_accuracy: 0.8209\n",
      "Epoch 88/100\n",
      "623/623 [==============================] - 0s 583us/sample - loss: 0.4280 - accuracy: 0.8202 - val_loss: 0.4226 - val_accuracy: 0.8097\n",
      "Epoch 89/100\n",
      "623/623 [==============================] - 1s 813us/sample - loss: 0.4277 - accuracy: 0.8186 - val_loss: 0.4226 - val_accuracy: 0.8172\n",
      "Epoch 90/100\n",
      "623/623 [==============================] - 1s 815us/sample - loss: 0.4372 - accuracy: 0.8090 - val_loss: 0.4233 - val_accuracy: 0.8172\n",
      "Epoch 91/100\n",
      "623/623 [==============================] - 0s 724us/sample - loss: 0.4155 - accuracy: 0.8283 - val_loss: 0.4241 - val_accuracy: 0.8209\n",
      "Epoch 92/100\n",
      "623/623 [==============================] - 0s 778us/sample - loss: 0.4156 - accuracy: 0.8250 - val_loss: 0.4230 - val_accuracy: 0.8134\n",
      "Epoch 93/100\n",
      "623/623 [==============================] - 0s 773us/sample - loss: 0.4268 - accuracy: 0.8186 - val_loss: 0.4207 - val_accuracy: 0.8172\n",
      "Epoch 94/100\n",
      "623/623 [==============================] - 0s 745us/sample - loss: 0.4037 - accuracy: 0.8266 - val_loss: 0.4217 - val_accuracy: 0.8209\n",
      "Epoch 95/100\n",
      "623/623 [==============================] - 0s 737us/sample - loss: 0.4248 - accuracy: 0.8170 - val_loss: 0.4214 - val_accuracy: 0.8172\n",
      "Epoch 96/100\n",
      "623/623 [==============================] - 0s 685us/sample - loss: 0.4189 - accuracy: 0.8363 - val_loss: 0.4207 - val_accuracy: 0.8209\n",
      "Epoch 97/100\n",
      "623/623 [==============================] - 0s 744us/sample - loss: 0.4237 - accuracy: 0.8202 - val_loss: 0.4212 - val_accuracy: 0.8172\n",
      "Epoch 98/100\n",
      "623/623 [==============================] - 0s 665us/sample - loss: 0.4248 - accuracy: 0.8283 - val_loss: 0.4211 - val_accuracy: 0.8209\n",
      "Epoch 99/100\n",
      "623/623 [==============================] - 1s 1ms/sample - loss: 0.4130 - accuracy: 0.8331 - val_loss: 0.4175 - val_accuracy: 0.8246\n",
      "Epoch 100/100\n",
      "623/623 [==============================] - 0s 794us/sample - loss: 0.4244 - accuracy: 0.8363 - val_loss: 0.4189 - val_accuracy: 0.8246\n"
     ]
    }
   ],
   "source": [
    "history = model.fit(X_train, y_train,\n",
    "                    batch_size=10,\n",
    "                    epochs=100,\n",
    "                    validation_data=(X_valid, y_valid))"
   ]
  },
  {
   "cell_type": "code",
   "execution_count": 32,
   "metadata": {
    "colab": {
     "base_uri": "https://localhost:8080/",
     "height": 282
    },
    "colab_type": "code",
    "executionInfo": {
     "elapsed": 24119,
     "status": "ok",
     "timestamp": 1588134337864,
     "user": {
      "displayName": "Chiharu Yanai",
      "photoUrl": "https://lh3.googleusercontent.com/a-/AOh14GhBKXjhTGhE1u0wV2K1woTi0IhKCWxmstyczgdX=s64",
      "userId": "16677175421570608329"
     },
     "user_tz": -540
    },
    "id": "3DLMyoV2PLU5",
    "outputId": "759fce91-eb17-41ec-8e4f-fbfaeabe99f8"
   },
   "outputs": [
    {
     "data": {
      "text/plain": [
       "<matplotlib.axes._subplots.AxesSubplot at 0x1a44bb5690>"
      ]
     },
     "execution_count": 32,
     "metadata": {},
     "output_type": "execute_result"
    },
    {
     "data": {
      "image/png": "[encoded data removed]",
      "text/plain": [
       "<Figure size 432x288 with 1 Axes>"
      ]
     },
     "metadata": {
      "needs_background": "light"
     },
     "output_type": "display_data"
    }
   ],
   "source": [
    "result = pd.DataFrame(history.history)\n",
    "result[['accuracy', 'val_accuracy']].plot()"
   ]
  },
  {
   "cell_type": "code",
   "execution_count": 33,
   "metadata": {
    "colab": {
     "base_uri": "https://localhost:8080/",
     "height": 282
    },
    "colab_type": "code",
    "executionInfo": {
     "elapsed": 21648,
     "status": "ok",
     "timestamp": 1588134337865,
     "user": {
      "displayName": "Chiharu Yanai",
      "photoUrl": "https://lh3.googleusercontent.com/a-/AOh14GhBKXjhTGhE1u0wV2K1woTi0IhKCWxmstyczgdX=s64",
      "userId": "16677175421570608329"
     },
     "user_tz": -540
    },
    "id": "6iQiIkvhP3uo",
    "outputId": "92e6e148-0093-4bc3-d868-7c11e97163c4"
   },
   "outputs": [
    {
     "data": {
      "text/plain": [
       "<matplotlib.axes._subplots.AxesSubplot at 0x1a44c94750>"
      ]
     },
     "execution_count": 33,
     "metadata": {},
     "output_type": "execute_result"
    },
    {
     "data": {
      "image/png": "[encoded data removed]",
      "text/plain": [
       "<Figure size 432x288 with 1 Axes>"
      ]
     },
     "metadata": {
      "needs_background": "light"
     },
     "output_type": "display_data"
    }
   ],
   "source": [
    "result[['loss', 'val_loss']].plot()"
   ]
  },
  {
   "cell_type": "code",
   "execution_count": 34,
   "metadata": {
    "colab": {
     "base_uri": "https://localhost:8080/",
     "height": 419
    },
    "colab_type": "code",
    "executionInfo": {
     "elapsed": 20641,
     "status": "ok",
     "timestamp": 1588134337866,
     "user": {
      "displayName": "Chiharu Yanai",
      "photoUrl": "https://lh3.googleusercontent.com/a-/AOh14GhBKXjhTGhE1u0wV2K1woTi0IhKCWxmstyczgdX=s64",
      "userId": "16677175421570608329"
     },
     "user_tz": -540
    },
    "id": "ww4xO4wuQO1P",
    "outputId": "89bb3159-9711-48f0-e15c-1d0fc8d517d1"
   },
   "outputs": [
    {
     "data": {
      "text/html": [
       "<div>\n",
       "<style scoped>\n",
       "    .dataframe tbody tr th:only-of-type {\n",
       "        vertical-align: middle;\n",
       "    }\n",
       "\n",
       "    .dataframe tbody tr th {\n",
       "        vertical-align: top;\n",
       "    }\n",
       "\n",
       "    .dataframe thead th {\n",
       "        text-align: right;\n",
       "    }\n",
       "</style>\n",
       "<table border=\"1\" class=\"dataframe\">\n",
       "  <thead>\n",
       "    <tr style=\"text-align: right;\">\n",
       "      <th></th>\n",
       "      <th>0</th>\n",
       "      <th>1</th>\n",
       "    </tr>\n",
       "  </thead>\n",
       "  <tbody>\n",
       "    <tr>\n",
       "      <th>0</th>\n",
       "      <td>0.944999</td>\n",
       "      <td>0.055001</td>\n",
       "    </tr>\n",
       "    <tr>\n",
       "      <th>1</th>\n",
       "      <td>0.815936</td>\n",
       "      <td>0.184064</td>\n",
       "    </tr>\n",
       "    <tr>\n",
       "      <th>2</th>\n",
       "      <td>0.963843</td>\n",
       "      <td>0.036157</td>\n",
       "    </tr>\n",
       "    <tr>\n",
       "      <th>3</th>\n",
       "      <td>0.910691</td>\n",
       "      <td>0.089309</td>\n",
       "    </tr>\n",
       "    <tr>\n",
       "      <th>4</th>\n",
       "      <td>0.750243</td>\n",
       "      <td>0.249757</td>\n",
       "    </tr>\n",
       "    <tr>\n",
       "      <th>...</th>\n",
       "      <td>...</td>\n",
       "      <td>...</td>\n",
       "    </tr>\n",
       "    <tr>\n",
       "      <th>413</th>\n",
       "      <td>0.888755</td>\n",
       "      <td>0.111246</td>\n",
       "    </tr>\n",
       "    <tr>\n",
       "      <th>414</th>\n",
       "      <td>0.027519</td>\n",
       "      <td>0.972480</td>\n",
       "    </tr>\n",
       "    <tr>\n",
       "      <th>415</th>\n",
       "      <td>0.887052</td>\n",
       "      <td>0.112948</td>\n",
       "    </tr>\n",
       "    <tr>\n",
       "      <th>416</th>\n",
       "      <td>0.888575</td>\n",
       "      <td>0.111425</td>\n",
       "    </tr>\n",
       "    <tr>\n",
       "      <th>417</th>\n",
       "      <td>0.541371</td>\n",
       "      <td>0.458629</td>\n",
       "    </tr>\n",
       "  </tbody>\n",
       "</table>\n",
       "<p>418 rows × 2 columns</p>\n",
       "</div>"
      ],
      "text/plain": [
       "            0         1\n",
       "0    0.944999  0.055001\n",
       "1    0.815936  0.184064\n",
       "2    0.963843  0.036157\n",
       "3    0.910691  0.089309\n",
       "4    0.750243  0.249757\n",
       "..        ...       ...\n",
       "413  0.888755  0.111246\n",
       "414  0.027519  0.972480\n",
       "415  0.887052  0.112948\n",
       "416  0.888575  0.111425\n",
       "417  0.541371  0.458629\n",
       "\n",
       "[418 rows x 2 columns]"
      ]
     },
     "execution_count": 34,
     "metadata": {},
     "output_type": "execute_result"
    }
   ],
   "source": [
    "# 推定\n",
    "\n",
    "X_test = df_test.values\n",
    "\n",
    "y_pred = pd.DataFrame(model.predict(X_test))\n",
    "y_pred"
   ]
  },
  {
   "cell_type": "code",
   "execution_count": 36,
   "metadata": {
    "colab": {
     "base_uri": "https://localhost:8080/",
     "height": 221
    },
    "colab_type": "code",
    "executionInfo": {
     "elapsed": 1699,
     "status": "ok",
     "timestamp": 1588134605956,
     "user": {
      "displayName": "Chiharu Yanai",
      "photoUrl": "https://lh3.googleusercontent.com/a-/AOh14GhBKXjhTGhE1u0wV2K1woTi0IhKCWxmstyczgdX=s64",
      "userId": "16677175421570608329"
     },
     "user_tz": -540
    },
    "id": "6K3fjWZ1wINv",
    "outputId": "3e87ca07-9a29-4696-a39b-e28e92b04632"
   },
   "outputs": [
    {
     "data": {
      "text/plain": [
       "0      0.0\n",
       "1      0.0\n",
       "2      0.0\n",
       "3      0.0\n",
       "4      0.0\n",
       "      ... \n",
       "413    0.0\n",
       "414    1.0\n",
       "415    0.0\n",
       "416    0.0\n",
       "417    0.0\n",
       "Name: 0, Length: 418, dtype: float32"
      ]
     },
     "execution_count": 36,
     "metadata": {},
     "output_type": "execute_result"
    }
   ],
   "source": [
    "sub_df = y_pred[0]\n",
    "\n",
    "for i in range(len(y_pred)):\n",
    "    if y_pred[0][i] > y_pred[1][i]:\n",
    "        sub_df[i] = 0\n",
    "    else:\n",
    "        sub_df[i] = 1\n",
    "\n",
    "sub_df"
   ]
  },
  {
   "cell_type": "code",
   "execution_count": 37,
   "metadata": {
    "colab": {
     "base_uri": "https://localhost:8080/",
     "height": 265
    },
    "colab_type": "code",
    "executionInfo": {
     "elapsed": 2600,
     "status": "ok",
     "timestamp": 1588134609770,
     "user": {
      "displayName": "Chiharu Yanai",
      "photoUrl": "https://lh3.googleusercontent.com/a-/AOh14GhBKXjhTGhE1u0wV2K1woTi0IhKCWxmstyczgdX=s64",
      "userId": "16677175421570608329"
     },
     "user_tz": -540
    },
    "id": "OvvfaiuWw7PT",
    "outputId": "9d1c8d28-caf6-459a-ead6-ad49461f7fd2"
   },
   "outputs": [
    {
     "data": {
      "text/plain": [
       "<matplotlib.axes._subplots.AxesSubplot at 0x1a43c0c210>"
      ]
     },
     "execution_count": 37,
     "metadata": {},
     "output_type": "execute_result"
    },
    {
     "data": {
      "image/png": "[encoded data removed]",
      "text/plain": [
       "<Figure size 432x288 with 1 Axes>"
      ]
     },
     "metadata": {},
     "output_type": "display_data"
    }
   ],
   "source": [
    "sub_df.value_counts().plot.pie()"
   ]
  },
  {
   "cell_type": "code",
   "execution_count": 39,
   "metadata": {
    "colab": {},
    "colab_type": "code",
    "id": "-zcNOQurDKB8"
   },
   "outputs": [],
   "source": [
    "# 提出\n",
    "\n",
    "submission['Survived'] = sub_df\n",
    "submission = submission.astype('int64')\n",
    "\n",
    "submission.to_csv('input/your_submssion.csv', index=False)"
   ]
  },
  {
   "cell_type": "code",
   "execution_count": null,
   "metadata": {
    "colab": {},
    "colab_type": "code",
    "id": "o2k5wrwPThZC"
   },
   "outputs": [],
   "source": []
  }
 ],
 "metadata": {
  "accelerator": "GPU",
  "colab": {
   "authorship_tag": "ABX9TyNPsHV3n0iygk727mJv7CuB",
   "collapsed_sections": [],
   "mount_file_id": "12umylOlMJPZpxV5Enx_HpXali9W0QKDW",
   "name": "titanic.ipynb",
   "provenance": []
  },
  "kernelspec": {
   "display_name": "Python 3",
   "language": "python",
   "name": "python3"
  },
  "language_info": {
   "codemirror_mode": {
    "name": "ipython",
    "version": 3
   },
   "file_extension": ".py",
   "mimetype": "text/x-python",
   "name": "python",
   "nbconvert_exporter": "python",
   "pygments_lexer": "ipython3",
   "version": "3.7.6"
  }
 },
 "nbformat": 4,
 "nbformat_minor": 4
}
